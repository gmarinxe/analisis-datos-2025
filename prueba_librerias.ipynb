{
 "cells": [
  {
   "cell_type": "code",
   "execution_count": 1,
   "id": "287d6f5f",
   "metadata": {},
   "outputs": [],
   "source": [
    "# Ejemplo importar pandas \n",
    "\n",
    "import pandas as pd # importa la libreria pandas y le cooco el apodo pd \n",
    "from sklearn.datasets import load_iris #importa la funcion loadiris de la libreria sklearn\n",
    "import matplotlib.pyplot as plt\n"
   ]
  },
  {
   "cell_type": "code",
   "execution_count": 2,
   "id": "433077d8",
   "metadata": {},
   "outputs": [],
   "source": [
    "# Crear un DataFrame aparti de un diccionario \n",
    "datos_inicial=  {\"edad\" : [18, 18, 25, 32],\n",
    "    \"estatura\": [1.7, 1.65, 1.82, 2.0],\n",
    "    \"nacionalidad\": [\"Peru\", \"Peru\", \"EeUu\", \"Ucrania\",],\n",
    "    \"C_hijos\" : [1, \"dos\", \"cero\", 2]\n",
    "}\n",
    "df = pd.DataFrame(datos_inicial) #crea un dataframe a partir del dicionario "
   ]
  },
  {
   "cell_type": "code",
   "execution_count": 3,
   "id": "15845b9b",
   "metadata": {},
   "outputs": [
    {
     "data": {
      "text/html": [
       "<div>\n",
       "<style scoped>\n",
       "    .dataframe tbody tr th:only-of-type {\n",
       "        vertical-align: middle;\n",
       "    }\n",
       "\n",
       "    .dataframe tbody tr th {\n",
       "        vertical-align: top;\n",
       "    }\n",
       "\n",
       "    .dataframe thead th {\n",
       "        text-align: right;\n",
       "    }\n",
       "</style>\n",
       "<table border=\"1\" class=\"dataframe\">\n",
       "  <thead>\n",
       "    <tr style=\"text-align: right;\">\n",
       "      <th></th>\n",
       "      <th>edad</th>\n",
       "      <th>estatura</th>\n",
       "      <th>nacionalidad</th>\n",
       "      <th>C_hijos</th>\n",
       "    </tr>\n",
       "  </thead>\n",
       "  <tbody>\n",
       "    <tr>\n",
       "      <th>0</th>\n",
       "      <td>18</td>\n",
       "      <td>1.70</td>\n",
       "      <td>Peru</td>\n",
       "      <td>1</td>\n",
       "    </tr>\n",
       "    <tr>\n",
       "      <th>1</th>\n",
       "      <td>18</td>\n",
       "      <td>1.65</td>\n",
       "      <td>Peru</td>\n",
       "      <td>dos</td>\n",
       "    </tr>\n",
       "    <tr>\n",
       "      <th>2</th>\n",
       "      <td>25</td>\n",
       "      <td>1.82</td>\n",
       "      <td>EeUu</td>\n",
       "      <td>cero</td>\n",
       "    </tr>\n",
       "    <tr>\n",
       "      <th>3</th>\n",
       "      <td>32</td>\n",
       "      <td>2.00</td>\n",
       "      <td>Ucrania</td>\n",
       "      <td>2</td>\n",
       "    </tr>\n",
       "  </tbody>\n",
       "</table>\n",
       "</div>"
      ],
      "text/plain": [
       "   edad  estatura nacionalidad C_hijos\n",
       "0    18      1.70         Peru       1\n",
       "1    18      1.65         Peru     dos\n",
       "2    25      1.82         EeUu    cero\n",
       "3    32      2.00      Ucrania       2"
      ]
     },
     "execution_count": 3,
     "metadata": {},
     "output_type": "execute_result"
    }
   ],
   "source": [
    "df"
   ]
  },
  {
   "cell_type": "code",
   "execution_count": 4,
   "id": "3b2438ee",
   "metadata": {},
   "outputs": [
    {
     "name": "stdout",
     "output_type": "stream",
     "text": [
      "<class 'pandas.core.frame.DataFrame'>\n",
      "RangeIndex: 4 entries, 0 to 3\n",
      "Data columns (total 4 columns):\n",
      " #   Column        Non-Null Count  Dtype  \n",
      "---  ------        --------------  -----  \n",
      " 0   edad          4 non-null      int64  \n",
      " 1   estatura      4 non-null      float64\n",
      " 2   nacionalidad  4 non-null      object \n",
      " 3   C_hijos       4 non-null      object \n",
      "dtypes: float64(1), int64(1), object(2)\n",
      "memory usage: 260.0+ bytes\n"
     ]
    }
   ],
   "source": [
    "df.info() #muestra informacion del dataframe df   \n",
    "                  "
   ]
  },
  {
   "cell_type": "code",
   "execution_count": 5,
   "id": "26ee98f6",
   "metadata": {},
   "outputs": [
    {
     "data": {
      "text/html": [
       "<div>\n",
       "<style scoped>\n",
       "    .dataframe tbody tr th:only-of-type {\n",
       "        vertical-align: middle;\n",
       "    }\n",
       "\n",
       "    .dataframe tbody tr th {\n",
       "        vertical-align: top;\n",
       "    }\n",
       "\n",
       "    .dataframe thead th {\n",
       "        text-align: right;\n",
       "    }\n",
       "</style>\n",
       "<table border=\"1\" class=\"dataframe\">\n",
       "  <thead>\n",
       "    <tr style=\"text-align: right;\">\n",
       "      <th></th>\n",
       "      <th>edad</th>\n",
       "      <th>estatura</th>\n",
       "    </tr>\n",
       "  </thead>\n",
       "  <tbody>\n",
       "    <tr>\n",
       "      <th>count</th>\n",
       "      <td>4.00000</td>\n",
       "      <td>4.000000</td>\n",
       "    </tr>\n",
       "    <tr>\n",
       "      <th>mean</th>\n",
       "      <td>23.25000</td>\n",
       "      <td>1.792500</td>\n",
       "    </tr>\n",
       "    <tr>\n",
       "      <th>std</th>\n",
       "      <td>6.70199</td>\n",
       "      <td>0.155644</td>\n",
       "    </tr>\n",
       "    <tr>\n",
       "      <th>min</th>\n",
       "      <td>18.00000</td>\n",
       "      <td>1.650000</td>\n",
       "    </tr>\n",
       "    <tr>\n",
       "      <th>25%</th>\n",
       "      <td>18.00000</td>\n",
       "      <td>1.687500</td>\n",
       "    </tr>\n",
       "    <tr>\n",
       "      <th>50%</th>\n",
       "      <td>21.50000</td>\n",
       "      <td>1.760000</td>\n",
       "    </tr>\n",
       "    <tr>\n",
       "      <th>75%</th>\n",
       "      <td>26.75000</td>\n",
       "      <td>1.865000</td>\n",
       "    </tr>\n",
       "    <tr>\n",
       "      <th>max</th>\n",
       "      <td>32.00000</td>\n",
       "      <td>2.000000</td>\n",
       "    </tr>\n",
       "  </tbody>\n",
       "</table>\n",
       "</div>"
      ],
      "text/plain": [
       "           edad  estatura\n",
       "count   4.00000  4.000000\n",
       "mean   23.25000  1.792500\n",
       "std     6.70199  0.155644\n",
       "min    18.00000  1.650000\n",
       "25%    18.00000  1.687500\n",
       "50%    21.50000  1.760000\n",
       "75%    26.75000  1.865000\n",
       "max    32.00000  2.000000"
      ]
     },
     "execution_count": 5,
     "metadata": {},
     "output_type": "execute_result"
    }
   ],
   "source": [
    "df.describe() #muestra estadistica descrptivca del dataframe \n"
   ]
  },
  {
   "cell_type": "code",
   "execution_count": 6,
   "id": "98d06829",
   "metadata": {},
   "outputs": [
    {
     "data": {
      "text/plain": [
       "<Axes: >"
      ]
     },
     "execution_count": 6,
     "metadata": {},
     "output_type": "execute_result"
    },
    {
     "data": {
      "image/png": "[encoded data removed]",
      "text/plain": [
       "<Figure size 640x480 with 1 Axes>"
      ]
     },
     "metadata": {},
     "output_type": "display_data"
    }
   ],
   "source": [
    "# Generar grafico de barras \n",
    "df[\"edad\"].plot(kind=\"bar\") # Genera un grafico de barras de la columna del dataframne df \n"
   ]
  },
  {
   "cell_type": "code",
   "execution_count": 7,
   "id": "4164187f",
   "metadata": {},
   "outputs": [],
   "source": [
    "#pandas.DataFrame.plot(kind='scatter')\n",
    "#df.plot(kind='scatter', x='edad', y='estatura', color='blue')\n",
    "#plt.title('Edad vs Estatura')\n",
    "#plt.xlabel('Edad')\n",
    "#plt.ylabel('Estatura (m)')\n",
    "#plt.grid(True)\n",
    "#plt.show()\n"
   ]
  },
  {
   "cell_type": "code",
   "execution_count": 8,
   "id": "5020800c",
   "metadata": {},
   "outputs": [
    {
     "data": {
      "image/png": "[encoded data removed]",
      "text/plain": [
       "<Figure size 640x480 with 1 Axes>"
      ]
     },
     "metadata": {},
     "output_type": "display_data"
    }
   ],
   "source": [
    "#matplotlib.pyplot.scatter() directamente\n",
    "plt.scatter(df['edad'], df['estatura'], color='green')\n",
    "plt.title('Edad vs Estatura')\n",
    "plt.xlabel('Edad')\n",
    "plt.ylabel('Estatura (m)')\n",
    "plt.grid(True)\n",
    "plt.show()\n"
   ]
  },
  {
   "cell_type": "code",
   "execution_count": 9,
   "id": "afabb937",
   "metadata": {},
   "outputs": [
    {
     "data": {
      "text/plain": [
       "<Axes: ylabel='count'>"
      ]
     },
     "execution_count": 9,
     "metadata": {},
     "output_type": "execute_result"
    },
    {
     "data": {
      "image/png": "[encoded data removed]",
      "text/plain": [
       "<Figure size 640x480 with 1 Axes>"
      ]
     },
     "metadata": {},
     "output_type": "display_data"
    }
   ],
   "source": [
    "frecuencia =df[\"nacionalidad\"].value_counts()\n",
    "frecuencia.plot(kind=\"pie\", legend=frecuencia.all(), autopct = \"%.2f%%\") #grafico de pie\n"
   ]
  },
  {
   "cell_type": "code",
   "execution_count": 10,
   "id": "5f2776e6",
   "metadata": {},
   "outputs": [
    {
     "data": {
      "text/plain": [
       "<Axes: xlabel='edad', ylabel='estatura'>"
      ]
     },
     "execution_count": 10,
     "metadata": {},
     "output_type": "execute_result"
    },
    {
     "data": {
      "image/png": "[encoded data removed]",
      "text/plain": [
       "<Figure size 640x480 with 1 Axes>"
      ]
     },
     "metadata": {},
     "output_type": "display_data"
    }
   ],
   "source": [
    "#graficar una nube de puntos\n",
    "df.plot(kind=\"scatter\", x =\"edad\", y =\"estatura\") #genera un grafico de barras de la columna edad vs de la estatura del dataframe df"
   ]
  },
  {
   "cell_type": "code",
   "execution_count": 11,
   "id": "4f9f322a",
   "metadata": {},
   "outputs": [],
   "source": [
    "# Guardar el DataFrame en un archivo csv\n",
    "df.to_csv(\"datos_personales.csv\", index=False) #guarda el dataframe df en un archivo csv llamado datos_personales.csv sin incluir los indices\n",
    "df.to_excel(\"datos_personales.xlsx\", index=False) #guarda el dataframe df en un archivo excel llamado datos_personales.xlsx sin incluir los indices\n",
    "df.to_json(\"datos_personales.json\", index=False) #guarda el dataframe df en un archivo json llamado datos_personales.json sin incluir los indices\n"
   ]
  }
 ],
 "metadata": {
  "kernelspec": {
   "display_name": "_env",
   "language": "python",
   "name": "python3"
  },
  "language_info": {
   "codemirror_mode": {
    "name": "ipython",
    "version": 3
   },
   "file_extension": ".py",
   "mimetype": "text/x-python",
   "name": "python",
   "nbconvert_exporter": "python",
   "pygments_lexer": "ipython3",
   "version": "3.13.3"
  }
 },
 "nbformat": 4,
 "nbformat_minor": 5
}
